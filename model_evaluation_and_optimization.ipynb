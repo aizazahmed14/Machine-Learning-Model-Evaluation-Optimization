{
 "cells": [
  {
   "cell_type": "markdown",
   "metadata": {},
   "source": [
    "Introduction to Model Evaluation\n",
    "\n",
    "When building machine learning models, it’s essential to assess how well your model generalizes to unseen data"
   ]
  },
  {
   "cell_type": "markdown",
   "metadata": {},
   "source": [
    "Cross-Validation Explained\n",
    "\n",
    "Cross-validation is a technique that splits the data into multiple subsets.\n",
    "\n",
    "The model trains on some of these subsets and validates on the others"
   ]
  },
  {
   "cell_type": "code",
   "execution_count": 14,
   "metadata": {},
   "outputs": [
    {
     "name": "stdout",
     "output_type": "stream",
     "text": [
      "Cross validation R2 scores: [0.51454242 0.70386991 0.74208135 0.63632938 0.68265475]\n",
      "Mean R2 score : 0.6558955642815314\n"
     ]
    }
   ],
   "source": [
    "from sklearn.model_selection import cross_val_score\n",
    "from sklearn.ensemble import RandomForestRegressor\n",
    "from sklearn.datasets import fetch_california_housing\n",
    "from sklearn.preprocessing import StandardScaler\n",
    "from sklearn.pipeline import make_pipeline\n",
    "\n",
    "#loading dataset\n",
    "data = fetch_california_housing(as_frame=True)\n",
    "X, y = data.data, data.target\n",
    "\n",
    "#define pipeline for scallinh and model\n",
    "pipeline = make_pipeline(StandardScaler(),\n",
    "                         RandomForestRegressor(random_state=42))\n",
    "\n",
    "#perfomr 5-fold cross-validation\n",
    "cv_scores = cross_val_score(pipeline, X, y, cv=5, scoring='r2')\n",
    "\n",
    "print(\"Cross validation R2 scores:\" , cv_scores)\n",
    "print(\"Mean R2 score :\", cv_scores.mean())"
   ]
  },
  {
   "cell_type": "markdown",
   "metadata": {},
   "source": [
    "Hyperparameter Tuning Introduction\n",
    "\n",
    "Hyperparameter tuning helps us find the best parameters for our model. For example, the number of trees in a Random Forest or the depth of each tree."
   ]
  },
  {
   "cell_type": "markdown",
   "metadata": {},
   "source": [
    "GridSearchCV\n",
    "\n",
    "GridSearchCV performs an exhaustive search over all parameter combinations. It’s powerful but can take time with large datasets or many parameters."
   ]
  },
  {
   "cell_type": "code",
   "execution_count": 15,
   "metadata": {},
   "outputs": [
    {
     "name": "stdout",
     "output_type": "stream",
     "text": [
      "Fitting 3 folds for each of 27 candidates, totalling 81 fits\n",
      "[CV 3/3] END randomforestregressor__max_depth=None, randomforestregressor__min_samples_split=2, randomforestregressor__n_estimators=50;, score=0.631 total time=  15.0s\n",
      "[CV 2/3] END randomforestregressor__max_depth=None, randomforestregressor__min_samples_split=2, randomforestregressor__n_estimators=50;, score=0.720 total time=  15.1s\n",
      "[CV 1/3] END randomforestregressor__max_depth=None, randomforestregressor__min_samples_split=2, randomforestregressor__n_estimators=50;, score=0.622 total time=  15.8s\n",
      "[CV 1/3] END randomforestregressor__max_depth=None, randomforestregressor__min_samples_split=2, randomforestregressor__n_estimators=100;, score=0.620 total time=  30.7s\n",
      "[CV 3/3] END randomforestregressor__max_depth=None, randomforestregressor__min_samples_split=2, randomforestregressor__n_estimators=100;, score=0.631 total time=  27.9s\n",
      "[CV 2/3] END randomforestregressor__max_depth=None, randomforestregressor__min_samples_split=2, randomforestregressor__n_estimators=100;, score=0.724 total time=  28.6s\n",
      "[CV 1/3] END randomforestregressor__max_depth=None, randomforestregressor__min_samples_split=5, randomforestregressor__n_estimators=50;, score=0.622 total time=  12.7s\n",
      "[CV 2/3] END randomforestregressor__max_depth=None, randomforestregressor__min_samples_split=5, randomforestregressor__n_estimators=50;, score=0.721 total time=  12.1s\n",
      "[CV 1/3] END randomforestregressor__max_depth=None, randomforestregressor__min_samples_split=2, randomforestregressor__n_estimators=200;, score=0.619 total time=  56.7s\n",
      "[CV 3/3] END randomforestregressor__max_depth=None, randomforestregressor__min_samples_split=5, randomforestregressor__n_estimators=50;, score=0.629 total time=  12.3s\n",
      "[CV 2/3] END randomforestregressor__max_depth=None, randomforestregressor__min_samples_split=2, randomforestregressor__n_estimators=200;, score=0.724 total time=  54.6s\n",
      "[CV 1/3] END randomforestregressor__max_depth=None, randomforestregressor__min_samples_split=5, randomforestregressor__n_estimators=100;, score=0.617 total time=  23.9s\n",
      "[CV 3/3] END randomforestregressor__max_depth=None, randomforestregressor__min_samples_split=2, randomforestregressor__n_estimators=200;, score=0.630 total time=  54.6s\n",
      "[CV 2/3] END randomforestregressor__max_depth=None, randomforestregressor__min_samples_split=5, randomforestregressor__n_estimators=100;, score=0.724 total time=  24.1s\n",
      "[CV 3/3] END randomforestregressor__max_depth=None, randomforestregressor__min_samples_split=5, randomforestregressor__n_estimators=100;, score=0.629 total time=  24.5s\n",
      "[CV 1/3] END randomforestregressor__max_depth=None, randomforestregressor__min_samples_split=10, randomforestregressor__n_estimators=50;, score=0.621 total time=  10.7s\n",
      "[CV 2/3] END randomforestregressor__max_depth=None, randomforestregressor__min_samples_split=10, randomforestregressor__n_estimators=50;, score=0.723 total time=  11.0s\n",
      "[CV 3/3] END randomforestregressor__max_depth=None, randomforestregressor__min_samples_split=10, randomforestregressor__n_estimators=50;, score=0.630 total time=  11.1s\n",
      "[CV 1/3] END randomforestregressor__max_depth=None, randomforestregressor__min_samples_split=5, randomforestregressor__n_estimators=200;, score=0.618 total time=  49.0s\n",
      "[CV 2/3] END randomforestregressor__max_depth=None, randomforestregressor__min_samples_split=5, randomforestregressor__n_estimators=200;, score=0.724 total time=  48.3s\n",
      "[CV 3/3] END randomforestregressor__max_depth=None, randomforestregressor__min_samples_split=5, randomforestregressor__n_estimators=200;, score=0.628 total time=  47.7s\n",
      "[CV 1/3] END randomforestregressor__max_depth=None, randomforestregressor__min_samples_split=10, randomforestregressor__n_estimators=100;, score=0.616 total time=  22.1s\n",
      "[CV 2/3] END randomforestregressor__max_depth=None, randomforestregressor__min_samples_split=10, randomforestregressor__n_estimators=100;, score=0.725 total time=  22.1s\n",
      "[CV 3/3] END randomforestregressor__max_depth=None, randomforestregressor__min_samples_split=10, randomforestregressor__n_estimators=100;, score=0.628 total time=  21.5s\n",
      "[CV 1/3] END randomforestregressor__max_depth=10, randomforestregressor__min_samples_split=2, randomforestregressor__n_estimators=50;, score=0.621 total time=   7.9s\n",
      "[CV 2/3] END randomforestregressor__max_depth=10, randomforestregressor__min_samples_split=2, randomforestregressor__n_estimators=50;, score=0.715 total time=   7.1s\n",
      "[CV 3/3] END randomforestregressor__max_depth=10, randomforestregressor__min_samples_split=2, randomforestregressor__n_estimators=50;, score=0.620 total time=   7.7s\n",
      "[CV 1/3] END randomforestregressor__max_depth=None, randomforestregressor__min_samples_split=10, randomforestregressor__n_estimators=200;, score=0.617 total time=  44.4s\n",
      "[CV 1/3] END randomforestregressor__max_depth=10, randomforestregressor__min_samples_split=2, randomforestregressor__n_estimators=100;, score=0.618 total time=  15.3s\n",
      "[CV 2/3] END randomforestregressor__max_depth=None, randomforestregressor__min_samples_split=10, randomforestregressor__n_estimators=200;, score=0.725 total time=  43.6s\n",
      "[CV 3/3] END randomforestregressor__max_depth=None, randomforestregressor__min_samples_split=10, randomforestregressor__n_estimators=200;, score=0.628 total time=  43.3s\n",
      "[CV 2/3] END randomforestregressor__max_depth=10, randomforestregressor__min_samples_split=2, randomforestregressor__n_estimators=100;, score=0.718 total time=  15.1s\n",
      "[CV 3/3] END randomforestregressor__max_depth=10, randomforestregressor__min_samples_split=2, randomforestregressor__n_estimators=100;, score=0.618 total time=  14.2s\n",
      "[CV 1/3] END randomforestregressor__max_depth=10, randomforestregressor__min_samples_split=5, randomforestregressor__n_estimators=50;, score=0.620 total time=   7.9s\n",
      "[CV 2/3] END randomforestregressor__max_depth=10, randomforestregressor__min_samples_split=5, randomforestregressor__n_estimators=50;, score=0.714 total time=   7.8s\n",
      "[CV 1/3] END randomforestregressor__max_depth=10, randomforestregressor__min_samples_split=2, randomforestregressor__n_estimators=200;, score=0.616 total time=  30.2s\n",
      "[CV 2/3] END randomforestregressor__max_depth=10, randomforestregressor__min_samples_split=2, randomforestregressor__n_estimators=200;, score=0.718 total time=  30.3s\n",
      "[CV 3/3] END randomforestregressor__max_depth=10, randomforestregressor__min_samples_split=2, randomforestregressor__n_estimators=200;, score=0.620 total time=  29.6s\n",
      "[CV 3/3] END randomforestregressor__max_depth=10, randomforestregressor__min_samples_split=5, randomforestregressor__n_estimators=50;, score=0.618 total time=   7.0s\n",
      "[CV 1/3] END randomforestregressor__max_depth=10, randomforestregressor__min_samples_split=5, randomforestregressor__n_estimators=100;, score=0.618 total time=  14.4s\n",
      "[CV 2/3] END randomforestregressor__max_depth=10, randomforestregressor__min_samples_split=5, randomforestregressor__n_estimators=100;, score=0.717 total time=  15.1s\n",
      "[CV 3/3] END randomforestregressor__max_depth=10, randomforestregressor__min_samples_split=5, randomforestregressor__n_estimators=100;, score=0.618 total time=  14.7s\n",
      "[CV 1/3] END randomforestregressor__max_depth=10, randomforestregressor__min_samples_split=10, randomforestregressor__n_estimators=50;, score=0.617 total time=  10.9s\n",
      "[CV 2/3] END randomforestregressor__max_depth=10, randomforestregressor__min_samples_split=10, randomforestregressor__n_estimators=50;, score=0.714 total time=   9.0s\n",
      "[CV 1/3] END randomforestregressor__max_depth=10, randomforestregressor__min_samples_split=5, randomforestregressor__n_estimators=200;, score=0.616 total time=  35.0s\n",
      "[CV 3/3] END randomforestregressor__max_depth=10, randomforestregressor__min_samples_split=10, randomforestregressor__n_estimators=50;, score=0.619 total time=   7.1s\n",
      "[CV 2/3] END randomforestregressor__max_depth=10, randomforestregressor__min_samples_split=5, randomforestregressor__n_estimators=200;, score=0.718 total time=  36.1s\n",
      "[CV 3/3] END randomforestregressor__max_depth=10, randomforestregressor__min_samples_split=5, randomforestregressor__n_estimators=200;, score=0.619 total time=  35.7s\n",
      "[CV 1/3] END randomforestregressor__max_depth=10, randomforestregressor__min_samples_split=10, randomforestregressor__n_estimators=100;, score=0.615 total time=  17.7s\n",
      "[CV 2/3] END randomforestregressor__max_depth=10, randomforestregressor__min_samples_split=10, randomforestregressor__n_estimators=100;, score=0.718 total time=  22.0s\n",
      "[CV 3/3] END randomforestregressor__max_depth=10, randomforestregressor__min_samples_split=10, randomforestregressor__n_estimators=100;, score=0.617 total time=  23.6s\n",
      "[CV 1/3] END randomforestregressor__max_depth=20, randomforestregressor__min_samples_split=2, randomforestregressor__n_estimators=50;, score=0.620 total time=  11.5s\n",
      "[CV 1/3] END randomforestregressor__max_depth=10, randomforestregressor__min_samples_split=10, randomforestregressor__n_estimators=200;, score=0.614 total time=  36.8s\n",
      "[CV 2/3] END randomforestregressor__max_depth=10, randomforestregressor__min_samples_split=10, randomforestregressor__n_estimators=200;, score=0.718 total time=  35.7s\n",
      "[CV 3/3] END randomforestregressor__max_depth=10, randomforestregressor__min_samples_split=10, randomforestregressor__n_estimators=200;, score=0.618 total time=  32.3s\n",
      "[CV 2/3] END randomforestregressor__max_depth=20, randomforestregressor__min_samples_split=2, randomforestregressor__n_estimators=50;, score=0.720 total time=  15.7s\n",
      "[CV 3/3] END randomforestregressor__max_depth=20, randomforestregressor__min_samples_split=2, randomforestregressor__n_estimators=50;, score=0.632 total time=  17.5s\n",
      "[CV 1/3] END randomforestregressor__max_depth=20, randomforestregressor__min_samples_split=2, randomforestregressor__n_estimators=100;, score=0.617 total time=  29.4s\n",
      "[CV 2/3] END randomforestregressor__max_depth=20, randomforestregressor__min_samples_split=2, randomforestregressor__n_estimators=100;, score=0.724 total time=  27.4s\n",
      "[CV 3/3] END randomforestregressor__max_depth=20, randomforestregressor__min_samples_split=2, randomforestregressor__n_estimators=100;, score=0.631 total time=  27.5s\n",
      "[CV 1/3] END randomforestregressor__max_depth=20, randomforestregressor__min_samples_split=5, randomforestregressor__n_estimators=50;, score=0.621 total time=  11.8s\n",
      "[CV 2/3] END randomforestregressor__max_depth=20, randomforestregressor__min_samples_split=5, randomforestregressor__n_estimators=50;, score=0.721 total time=  10.9s\n",
      "[CV 1/3] END randomforestregressor__max_depth=20, randomforestregressor__min_samples_split=2, randomforestregressor__n_estimators=200;, score=0.618 total time=  50.7s\n",
      "[CV 3/3] END randomforestregressor__max_depth=20, randomforestregressor__min_samples_split=5, randomforestregressor__n_estimators=50;, score=0.629 total time=  10.6s\n",
      "[CV 2/3] END randomforestregressor__max_depth=20, randomforestregressor__min_samples_split=2, randomforestregressor__n_estimators=200;, score=0.724 total time=  49.5s\n",
      "[CV 3/3] END randomforestregressor__max_depth=20, randomforestregressor__min_samples_split=2, randomforestregressor__n_estimators=200;, score=0.629 total time=  48.8s\n",
      "[CV 1/3] END randomforestregressor__max_depth=20, randomforestregressor__min_samples_split=5, randomforestregressor__n_estimators=100;, score=0.616 total time=  21.8s\n",
      "[CV 2/3] END randomforestregressor__max_depth=20, randomforestregressor__min_samples_split=5, randomforestregressor__n_estimators=100;, score=0.724 total time=  21.9s\n",
      "[CV 3/3] END randomforestregressor__max_depth=20, randomforestregressor__min_samples_split=5, randomforestregressor__n_estimators=100;, score=0.630 total time=  20.8s\n",
      "[CV 1/3] END randomforestregressor__max_depth=20, randomforestregressor__min_samples_split=10, randomforestregressor__n_estimators=50;, score=0.620 total time=  10.5s\n",
      "[CV 2/3] END randomforestregressor__max_depth=20, randomforestregressor__min_samples_split=10, randomforestregressor__n_estimators=50;, score=0.722 total time=   9.5s\n",
      "[CV 1/3] END randomforestregressor__max_depth=20, randomforestregressor__min_samples_split=5, randomforestregressor__n_estimators=200;, score=0.617 total time=  43.1s\n",
      "[CV 3/3] END randomforestregressor__max_depth=20, randomforestregressor__min_samples_split=10, randomforestregressor__n_estimators=50;, score=0.628 total time=  10.1s\n",
      "[CV 2/3] END randomforestregressor__max_depth=20, randomforestregressor__min_samples_split=5, randomforestregressor__n_estimators=200;, score=0.724 total time=  43.6s\n",
      "[CV 3/3] END randomforestregressor__max_depth=20, randomforestregressor__min_samples_split=5, randomforestregressor__n_estimators=200;, score=0.628 total time=  41.7s\n",
      "[CV 1/3] END randomforestregressor__max_depth=20, randomforestregressor__min_samples_split=10, randomforestregressor__n_estimators=100;, score=0.616 total time=  19.3s\n",
      "[CV 2/3] END randomforestregressor__max_depth=20, randomforestregressor__min_samples_split=10, randomforestregressor__n_estimators=100;, score=0.725 total time=  19.3s\n",
      "[CV 3/3] END randomforestregressor__max_depth=20, randomforestregressor__min_samples_split=10, randomforestregressor__n_estimators=100;, score=0.627 total time=  19.4s\n",
      "[CV 1/3] END randomforestregressor__max_depth=20, randomforestregressor__min_samples_split=10, randomforestregressor__n_estimators=200;, score=0.617 total time=  35.6s\n",
      "[CV 2/3] END randomforestregressor__max_depth=20, randomforestregressor__min_samples_split=10, randomforestregressor__n_estimators=200;, score=0.725 total time=  31.6s\n",
      "[CV 3/3] END randomforestregressor__max_depth=20, randomforestregressor__min_samples_split=10, randomforestregressor__n_estimators=200;, score=0.626 total time=  29.9s\n",
      "Best paramentres: {'randomforestregressor__max_depth': None, 'randomforestregressor__min_samples_split': 2, 'randomforestregressor__n_estimators': 100}\n",
      "Best R2 score : 0.6580716894204138\n"
     ]
    }
   ],
   "source": [
    "from sklearn.model_selection import GridSearchCV\n",
    "\n",
    "param_grid = {\n",
    "    'randomforestregressor__n_estimators': [50, 100, 200],\n",
    "    'randomforestregressor__max_depth': [None,10,20],\n",
    "    'randomforestregressor__min_samples_split': [2,5,10]\n",
    "}\n",
    "\n",
    "grid_search = GridSearchCV(\n",
    "    pipeline,\n",
    "    param_grid=param_grid,\n",
    "    cv=3,\n",
    "    scoring='r2',\n",
    "    n_jobs=-1, #Use all cpu cores\n",
    "    verbose=3 #show detailed progress\n",
    ")\n",
    "\n",
    "grid_search.fit(X, y)\n",
    "print(\"Best paramentres:\", grid_search.best_params_)\n",
    "print(\"Best R2 score :\", grid_search.best_score_)"
   ]
  },
  {
   "cell_type": "markdown",
   "metadata": {},
   "source": [
    "RandomizedSearchCV Explained\n",
    "\n",
    "If GridSearchCV feels slow, RandomizedSearchCV is a faster alternative\n",
    "\n",
    "It samples a fixed number of parameter combinations from the grid, reducing computation time."
   ]
  },
  {
   "cell_type": "code",
   "execution_count": 16,
   "metadata": {},
   "outputs": [
    {
     "name": "stdout",
     "output_type": "stream",
     "text": [
      "Fitting 3 folds for each of 10 candidates, totalling 30 fits\n",
      "[CV 1/3] END randomforestregressor__max_depth=10, randomforestregressor__min_samples_split=5, randomforestregressor__n_estimators=100;, score=0.618 total time=  20.8s\n",
      "[CV 2/3] END randomforestregressor__max_depth=10, randomforestregressor__min_samples_split=5, randomforestregressor__n_estimators=100;, score=0.717 total time=  16.9s\n",
      "[CV 3/3] END randomforestregressor__max_depth=None, randomforestregressor__min_samples_split=10, randomforestregressor__n_estimators=200;, score=0.628 total time=  51.1s\n",
      "[CV 2/3] END randomforestregressor__max_depth=None, randomforestregressor__min_samples_split=10, randomforestregressor__n_estimators=200;, score=0.725 total time=  51.3s\n",
      "[CV 1/3] END randomforestregressor__max_depth=None, randomforestregressor__min_samples_split=10, randomforestregressor__n_estimators=200;, score=0.617 total time=  51.9s\n",
      "[CV 3/3] END randomforestregressor__max_depth=10, randomforestregressor__min_samples_split=5, randomforestregressor__n_estimators=100;, score=0.618 total time=  15.3s\n",
      "[CV 1/3] END randomforestregressor__max_depth=10, randomforestregressor__min_samples_split=2, randomforestregressor__n_estimators=50;, score=0.621 total time=   8.0s\n",
      "[CV 2/3] END randomforestregressor__max_depth=10, randomforestregressor__min_samples_split=2, randomforestregressor__n_estimators=50;, score=0.715 total time=   7.7s\n",
      "[CV 3/3] END randomforestregressor__max_depth=10, randomforestregressor__min_samples_split=2, randomforestregressor__n_estimators=50;, score=0.620 total time=   7.5s\n",
      "[CV 1/3] END randomforestregressor__max_depth=20, randomforestregressor__min_samples_split=5, randomforestregressor__n_estimators=50;, score=0.621 total time=  12.3s\n",
      "[CV 3/3] END randomforestregressor__max_depth=20, randomforestregressor__min_samples_split=5, randomforestregressor__n_estimators=50;, score=0.629 total time=  11.8s\n",
      "[CV 2/3] END randomforestregressor__max_depth=20, randomforestregressor__min_samples_split=5, randomforestregressor__n_estimators=50;, score=0.721 total time=  12.2s\n",
      "[CV 1/3] END randomforestregressor__max_depth=None, randomforestregressor__min_samples_split=2, randomforestregressor__n_estimators=50;, score=0.622 total time=  13.9s\n",
      "[CV 2/3] END randomforestregressor__max_depth=None, randomforestregressor__min_samples_split=2, randomforestregressor__n_estimators=50;, score=0.720 total time=  13.1s\n",
      "[CV 3/3] END randomforestregressor__max_depth=None, randomforestregressor__min_samples_split=2, randomforestregressor__n_estimators=50;, score=0.631 total time=  13.9s\n",
      "[CV 1/3] END randomforestregressor__max_depth=10, randomforestregressor__min_samples_split=10, randomforestregressor__n_estimators=100;, score=0.615 total time=  15.0s\n",
      "[CV 1/3] END randomforestregressor__max_depth=10, randomforestregressor__min_samples_split=2, randomforestregressor__n_estimators=200;, score=0.616 total time=  30.9s\n",
      "[CV 2/3] END randomforestregressor__max_depth=10, randomforestregressor__min_samples_split=2, randomforestregressor__n_estimators=200;, score=0.718 total time=  30.7s\n",
      "[CV 3/3] END randomforestregressor__max_depth=10, randomforestregressor__min_samples_split=2, randomforestregressor__n_estimators=200;, score=0.620 total time=  30.3s\n",
      "[CV 2/3] END randomforestregressor__max_depth=10, randomforestregressor__min_samples_split=10, randomforestregressor__n_estimators=100;, score=0.718 total time=  14.6s\n",
      "[CV 3/3] END randomforestregressor__max_depth=10, randomforestregressor__min_samples_split=10, randomforestregressor__n_estimators=100;, score=0.617 total time=  14.9s\n",
      "[CV 1/3] END randomforestregressor__max_depth=10, randomforestregressor__min_samples_split=5, randomforestregressor__n_estimators=50;, score=0.620 total time=   7.4s\n",
      "[CV 2/3] END randomforestregressor__max_depth=10, randomforestregressor__min_samples_split=5, randomforestregressor__n_estimators=50;, score=0.714 total time=   7.7s\n",
      "[CV 1/3] END randomforestregressor__max_depth=10, randomforestregressor__min_samples_split=10, randomforestregressor__n_estimators=200;, score=0.614 total time=  30.3s\n",
      "[CV 2/3] END randomforestregressor__max_depth=10, randomforestregressor__min_samples_split=10, randomforestregressor__n_estimators=200;, score=0.718 total time=  30.2s\n",
      "[CV 3/3] END randomforestregressor__max_depth=10, randomforestregressor__min_samples_split=5, randomforestregressor__n_estimators=50;, score=0.618 total time=   7.2s\n",
      "[CV 3/3] END randomforestregressor__max_depth=10, randomforestregressor__min_samples_split=10, randomforestregressor__n_estimators=200;, score=0.618 total time=  29.0s\n",
      "[CV 1/3] END randomforestregressor__max_depth=20, randomforestregressor__min_samples_split=10, randomforestregressor__n_estimators=50;, score=0.620 total time=  10.4s\n",
      "[CV 2/3] END randomforestregressor__max_depth=20, randomforestregressor__min_samples_split=10, randomforestregressor__n_estimators=50;, score=0.722 total time=   9.3s\n",
      "[CV 3/3] END randomforestregressor__max_depth=20, randomforestregressor__min_samples_split=10, randomforestregressor__n_estimators=50;, score=0.628 total time=   9.0s\n",
      "Best paramentres: {'randomforestregressor__n_estimators': 50, 'randomforestregressor__min_samples_split': 2, 'randomforestregressor__max_depth': None}\n",
      "Best R2 score : 0.6578375566175149\n"
     ]
    }
   ],
   "source": [
    "from sklearn.model_selection import RandomizedSearchCV\n",
    "import numpy as np\n",
    "\n",
    "#define hyperparameters grid with wider range \n",
    "\n",
    "param_dist = {\n",
    "     'randomforestregressor__n_estimators': [50, 100, 200],\n",
    "    'randomforestregressor__max_depth': [None,10,20],\n",
    "    'randomforestregressor__min_samples_split': [2,5,10]\n",
    "}\n",
    "\n",
    "random_search = RandomizedSearchCV(\n",
    "    pipeline,\n",
    "    param_distributions=param_dist,\n",
    "    n_iter=10, \n",
    "    cv=3,\n",
    "    scoring='r2',\n",
    "    n_jobs=-1,\n",
    "    verbose=3,\n",
    "    random_state=42\n",
    ")\n",
    "\n",
    "random_search.fit(X, y)\n",
    "\n",
    "print(\"Best paramentres:\", random_search.best_params_)\n",
    "print(\"Best R2 score :\", random_search.best_score_)"
   ]
  },
  {
   "cell_type": "markdown",
   "metadata": {},
   "source": []
  }
 ],
 "metadata": {
  "kernelspec": {
   "display_name": "myenv",
   "language": "python",
   "name": "python3"
  },
  "language_info": {
   "codemirror_mode": {
    "name": "ipython",
    "version": 3
   },
   "file_extension": ".py",
   "mimetype": "text/x-python",
   "name": "python",
   "nbconvert_exporter": "python",
   "pygments_lexer": "ipython3",
   "version": "3.10.16"
  }
 },
 "nbformat": 4,
 "nbformat_minor": 2
}
